{
 "cells": [
  {
   "cell_type": "code",
   "execution_count": 1,
   "metadata": {},
   "outputs": [],
   "source": [
    "\n",
    "import pandas as pd\n",
    "import numpy as np\n",
    "from sklearn.preprocessing import LabelEncoder, StandardScaler\n",
    "from sklearn.model_selection import train_test_split, StratifiedKFold, cross_val_score, GridSearchCV\n",
    "from sklearn.ensemble import RandomForestClassifier\n",
    "from sklearn.metrics import classification_report, confusion_matrix, accuracy_score\n",
    "import matplotlib.pyplot as plt\n",
    "import seaborn as sns\n",
    "from imblearn.over_sampling import SMOTE  # [PERBAIKAN] Tambahkan SMOTE\n",
    "import pickle"
   ]
  },
  {
   "cell_type": "code",
   "execution_count": 2,
   "metadata": {},
   "outputs": [],
   "source": [
    "# 1. Membaca Data\n",
    "file_path = 'fruit.xlsx'  # Sesuaikan path jika perlu\n",
    "data = pd.read_excel(file_path)"
   ]
  },
  {
   "cell_type": "code",
   "execution_count": 3,
   "metadata": {},
   "outputs": [
    {
     "name": "stdout",
     "output_type": "stream",
     "text": [
      "DataFrame Info:\n",
      "<class 'pandas.core.frame.DataFrame'>\n",
      "RangeIndex: 10000 entries, 0 to 9999\n",
      "Data columns (total 6 columns):\n",
      " #   Column    Non-Null Count  Dtype  \n",
      "---  ------    --------------  -----  \n",
      " 0   diameter  10000 non-null  float64\n",
      " 1   weight    10000 non-null  float64\n",
      " 2   red       10000 non-null  int64  \n",
      " 3   green     10000 non-null  int64  \n",
      " 4   blue      10000 non-null  int64  \n",
      " 5   name      10000 non-null  object \n",
      "dtypes: float64(2), int64(3), object(1)\n",
      "memory usage: 468.9+ KB\n"
     ]
    }
   ],
   "source": [
    "# 2. Informasi Data\n",
    "print(\"DataFrame Info:\")\n",
    "data.info()"
   ]
  },
  {
   "cell_type": "code",
   "execution_count": 4,
   "metadata": {},
   "outputs": [
    {
     "name": "stdout",
     "output_type": "stream",
     "text": [
      "\n",
      "Deskripsi Data:\n",
      "           diameter        weight           red         green          blue\n",
      "count  10000.000000  10000.000000  10000.000000  10000.000000  10000.000000\n",
      "mean       9.975685    175.050792    153.847800     76.010600     11.363200\n",
      "std        1.947844     29.212119     10.432954     11.708433      9.061275\n",
      "min        2.960000     86.760000    115.000000     31.000000      2.000000\n",
      "25%        8.460000    152.220000    147.000000     68.000000      2.000000\n",
      "50%        9.980000    174.985000    154.000000     76.000000     10.000000\n",
      "75%       11.480000    197.722500    161.000000     84.000000     17.000000\n",
      "max       16.450000    261.510000    192.000000    116.000000     56.000000\n"
     ]
    }
   ],
   "source": [
    "print(\"\\nDeskripsi Data:\")\n",
    "print(data.describe())"
   ]
  },
  {
   "cell_type": "code",
   "execution_count": 5,
   "metadata": {},
   "outputs": [
    {
     "name": "stdout",
     "output_type": "stream",
     "text": [
      "Tidak ada missi\n"
     ]
    }
   ],
   "source": [
    "# Memeriksa missing values\n",
    "if data.isnull().sum().sum() > 0:\n",
    "    print(\"Terdapat missing values, silakan bersihkan data terlebih dahulu.\")\n",
    "else:\n",
    "    print(\"Tidak ada missi\")"
   ]
  },
  {
   "cell_type": "code",
   "execution_count": 6,
   "metadata": {},
   "outputs": [],
   "source": [
    "# 3. Preprocessing Data\n",
    "x = data.drop(columns=['name'])\n",
    "y = data['name']"
   ]
  },
  {
   "cell_type": "code",
   "execution_count": 7,
   "metadata": {},
   "outputs": [
    {
     "data": {
      "text/plain": [
       "array([1, 1, 1, ..., 0, 0, 0])"
      ]
     },
     "execution_count": 7,
     "metadata": {},
     "output_type": "execute_result"
    }
   ],
   "source": [
    "# 4. Encoding Target\n",
    "encoder = LabelEncoder()\n",
    "y = encoder.fit_transform(y)\n",
    "y"
   ]
  },
  {
   "cell_type": "code",
   "execution_count": 8,
   "metadata": {},
   "outputs": [],
   "source": [
    "# # 5. Scaling Fitur\n",
    "# scaler = StandardScaler()\n",
    "# x = scaler.fit_transform(x)\n",
    "# x"
   ]
  },
  {
   "cell_type": "code",
   "execution_count": 9,
   "metadata": {},
   "outputs": [],
   "source": [
    "# Oversampling dengan SMOTE (jika data tidak seimbang)\n",
    "smote = SMOTE(random_state=42)\n",
    "X_resampled, y_resampled = smote.fit_resample(x, y)"
   ]
  },
  {
   "cell_type": "code",
   "execution_count": 10,
   "metadata": {},
   "outputs": [],
   "source": [
    "# Split the dataset into training, validation, and testing sets\n",
    "X_train, X_temp, y_train, y_temp = train_test_split(x, y, test_size=0.3, random_state=42)\n",
    "X_val, X_test, y_val, y_test = train_test_split(X_temp, y_temp, test_size=0.5, random_state=42)"
   ]
  },
  {
   "cell_type": "code",
   "execution_count": 11,
   "metadata": {},
   "outputs": [],
   "source": [
    "# Scale the features using StandardScaler\n",
    "scaler = StandardScaler()\n",
    "X_train = scaler.fit_transform(X_train)  # Fit and transform on training data\n",
    "X_val = scaler.transform(X_val)          # Only transform on validation data\n",
    "X_test = scaler.transform(X_test)        # Only transform on test data"
   ]
  },
  {
   "cell_type": "code",
   "execution_count": 12,
   "metadata": {},
   "outputs": [
    {
     "name": "stdout",
     "output_type": "stream",
     "text": [
      "Sedang mencari parameter terbaik...\n",
      "Fitting 5 folds for each of 96 candidates, totalling 480 fits\n"
     ]
    },
    {
     "name": "stdout",
     "output_type": "stream",
     "text": [
      "\n",
      "Hasil GridSearch:\n",
      "Skor terbaik: 0.9490\n",
      "Parameter terbaik:\n",
      "  - bootstrap: True\n",
      "  - max_depth: 20\n",
      "  - max_features: sqrt\n",
      "  - min_samples_leaf: 1\n",
      "  - min_samples_split: 2\n",
      "  - n_estimators: 200\n"
     ]
    }
   ],
   "source": [
    "# 5. Hyperparameter Tuning (GridSearchCV)\n",
    "param_grid = {\n",
    "    'n_estimators': [100, 200, 300],\n",
    "    'max_depth': [None, 10, 20, 30],\n",
    "    'min_samples_split': [2, 5],\n",
    "    'min_samples_leaf': [1, 2],\n",
    "    'bootstrap': [True],\n",
    "    'max_features': ['sqrt', 'log2']\n",
    "}\n",
    "\n",
    "random_forest_model = RandomForestClassifier(random_state=0)\n",
    "grid_search = GridSearchCV(\n",
    "    estimator=random_forest_model,\n",
    "    param_grid=param_grid,\n",
    "    n_jobs=-1,\n",
    "    verbose=2,\n",
    "    scoring='f1_weighted',\n",
    "    cv=5\n",
    ")\n",
    "\n",
    "print(\"Sedang mencari parameter terbaik...\")\n",
    "grid_search.fit(X_train, y_train)\n",
    "\n",
    "print(\"\\nHasil GridSearch:\")\n",
    "print(f\"Skor terbaik: {grid_search.best_score_:.4f}\")\n",
    "print(\"Parameter terbaik:\")\n",
    "best_params = grid_search.best_params_\n",
    "for key, value in best_params.items():\n",
    "    print(f\"  - {key}: {value}\")\n",
    "\n",
    "random_forest = grid_search.best_estimator_"
   ]
  },
  {
   "cell_type": "code",
   "execution_count": 13,
   "metadata": {},
   "outputs": [
    {
     "name": "stdout",
     "output_type": "stream",
     "text": [
      "Rata-rata F1-Score CV (Stratified K-Fold): 95.25%\n"
     ]
    }
   ],
   "source": [
    "# 6. Evaluasi dengan Cross-Validation (Stratified K-Fold) [PERBAIKAN]\n",
    "skf = StratifiedKFold(n_splits=5, shuffle=True, random_state=42)  # [PERBAIKAN]\n",
    "cv_scores = cross_val_score(random_forest, x, y, cv=skf, scoring='f1_weighted')  # [PERBAIKAN]\n",
    "print(f\"Rata-rata F1-Score CV (Stratified K-Fold): {cv_scores.mean() * 100:.2f}%\")\n"
   ]
  },
  {
   "cell_type": "code",
   "execution_count": 14,
   "metadata": {},
   "outputs": [],
   "source": [
    "# 7. Evaluasi pada Data Uji\n",
    "random_forest.fit(X_train, y_train)\n",
    "y_pred = random_forest.predict(X_test)"
   ]
  },
  {
   "cell_type": "code",
   "execution_count": 15,
   "metadata": {},
   "outputs": [
    {
     "name": "stdout",
     "output_type": "stream",
     "text": [
      "Classification Report:\n",
      "              precision    recall  f1-score   support\n",
      "\n",
      "           0       0.95      0.97      0.96       733\n",
      "           1       0.97      0.95      0.96       767\n",
      "\n",
      "    accuracy                           0.96      1500\n",
      "   macro avg       0.96      0.96      0.96      1500\n",
      "weighted avg       0.96      0.96      0.96      1500\n",
      "\n",
      "Akurasi Model: 95.93%\n"
     ]
    },
    {
     "data": {
      "image/png": "[encoded data removed]",
      "text/plain": [
       "<Figure size 600x500 with 2 Axes>"
      ]
     },
     "metadata": {},
     "output_type": "display_data"
    }
   ],
   "source": [
    "# Classification Report\n",
    "print(\"Classification Report:\")\n",
    "print(classification_report(y_test, y_pred))\n",
    "# Akurasi Model\n",
    "accuracy = accuracy_score(y_test, y_pred)\n",
    "print(f\"Akurasi Model: {accuracy * 100:.2f}%\")\n",
    "# Confusion Matrix\n",
    "cm = confusion_matrix(y_test, y_pred)\n",
    "plt.figure(figsize=(6, 5))\n",
    "sns.heatmap(cm / np.sum(cm, axis=1)[:, np.newaxis], annot=True, fmt='.2%', cmap='Blues',  # [PERBAIKAN]\n",
    "            xticklabels=encoder.classes_, yticklabels=encoder.classes_)\n",
    "plt.title('Normalized Confusion Matrix')  # [PERBAIKAN]\n",
    "plt.xlabel('Predicted Labels')\n",
    "plt.ylabel('True Labels')\n",
    "plt.show()"
   ]
  },
  {
   "cell_type": "code",
   "execution_count": 16,
   "metadata": {},
   "outputs": [
    {
     "name": "stdout",
     "output_type": "stream",
     "text": [
      "Model, scaler, dan encoder berhasil disimpan.\n"
     ]
    }
   ],
   "source": [
    "# 8. Menyimpan Model, Scaler, dan Encoder\n",
    "with open('grid_search_best_params.pkl', 'wb') as params_file:\n",
    "    pickle.dump(best_params, params_file)\n",
    "with open('random_forest_fruit.pkl', 'wb') as model_file:\n",
    "    pickle.dump(random_forest, model_file)\n",
    "with open('scaler_fruit_forest.pkl', 'wb') as scaler_file:\n",
    "    pickle.dump(scaler, scaler_file)\n",
    "with open('label_encoder_fruit_forest.pkl', 'wb') as encoder_file:\n",
    "    pickle.dump(encoder, encoder_file)\n",
    "\n",
    "print(\"Model, scaler, dan encoder berhasil disimpan.\")"
   ]
  },
  {
   "cell_type": "code",
   "execution_count": 17,
   "metadata": {},
   "outputs": [],
   "source": [
    "# Memuat kembali model, scaler, dan encoder menggunakan pickle\n",
    "with open('random_forest_fruit.pkl', 'rb') as model_file:\n",
    "    model = pickle.load(model_file)\n",
    "with open('scaler_fruit_forest.pkl', 'rb') as scaler_file:\n",
    "    scaler = pickle.load(scaler_file)\n",
    "with open('label_encoder_fruit_forest.pkl', 'rb') as encoder_file:\n",
    "    encoder = pickle.load(encoder_file)"
   ]
  },
  {
   "cell_type": "code",
   "execution_count": 18,
   "metadata": {},
   "outputs": [],
   "source": [
    "def test_new_data(new_data):\n",
    "    # Validasi kolom\n",
    "    required_columns = ['diameter', 'weight', 'red', 'green', 'blue']\n",
    "    if not all(col in new_data.columns for col in required_columns):\n",
    "        raise ValueError(f\"Data baru harus memiliki kolom: {required_columns}\")\n",
    "    \n",
    "    # Validasi tipe data dan nilai\n",
    "    if not all(new_data[col].dtype in [np.float64, np.int64] for col in required_columns):\n",
    "        raise ValueError(\"Semua kolom harus bertipe numerik (float atau int).\")\n",
    "    if new_data.isnull().any().any():\n",
    "        raise ValueError(\"Data baru tidak boleh mengandung nilai NaN.\")\n",
    "    \n",
    "    # Skala data baru\n",
    "    new_data_scaled = scaler.transform(new_data)\n",
    "    # Prediksi\n",
    "    predictions = random_forest.predict(new_data_scaled)\n",
    "    return encoder.inverse_transform(predictions)\n"
   ]
  },
  {
   "cell_type": "code",
   "execution_count": 19,
   "metadata": {},
   "outputs": [
    {
     "name": "stdout",
     "output_type": "stream",
     "text": [
      "Prediksi untuk data baru:\n",
      "['orange' 'orange']\n"
     ]
    }
   ],
   "source": [
    "# Contoh Data Baru\n",
    "new_data = pd.DataFrame({\n",
    "    'diameter': [5.5, 6.3],\n",
    "    'weight': [120, 150],\n",
    "    'red': [200, 180],\n",
    "    'green': [50, 60],\n",
    "    'blue': [30, 40]\n",
    "})\n",
    "\n",
    "print(\"Prediksi untuk data baru:\")\n",
    "try:\n",
    "    predictions = test_new_data(new_data)\n",
    "    print(predictions)\n",
    "except ValueError as e:\n",
    "    print(f\"Error: {e}\")"
   ]
  }
 ],
 "metadata": {
  "kernelspec": {
   "display_name": "Python 3",
   "language": "python",
   "name": "python3"
  },
  "language_info": {
   "codemirror_mode": {
    "name": "ipython",
    "version": 3
   },
   "file_extension": ".py",
   "mimetype": "text/x-python",
   "name": "python",
   "nbconvert_exporter": "python",
   "pygments_lexer": "ipython3",
   "version": "3.12.7"
  }
 },
 "nbformat": 4,
 "nbformat_minor": 2
}
